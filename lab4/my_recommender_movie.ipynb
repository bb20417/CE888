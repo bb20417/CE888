{
  "nbformat": 4,
  "nbformat_minor": 0,
  "metadata": {
    "colab": {
      "name": "my_recommender_movie.ipynb",
      "provenance": [],
      "collapsed_sections": [],
      "authorship_tag": "ABX9TyPfqQa3SA/rBbhvwlcGUhmh",
      "include_colab_link": true
    },
    "kernelspec": {
      "name": "python3",
      "display_name": "Python 3"
    },
    "accelerator": "GPU"
  },
  "cells": [
    {
      "cell_type": "markdown",
      "metadata": {
        "id": "view-in-github",
        "colab_type": "text"
      },
      "source": [
        "<a href=\"https://colab.research.google.com/github/bb20417/CE888/blob/main/lab4/my_recommender_movie.ipynb\" target=\"_parent\"><img src=\"https://colab.research.google.com/assets/colab-badge.svg\" alt=\"Open In Colab\"/></a>"
      ]
    },
    {
      "cell_type": "code",
      "metadata": {
        "id": "ybD2fvh0Lpy-"
      },
      "source": [
        "import pandas as pd\n",
        "import numpy as np\n",
        "import operator"
      ],
      "execution_count": 14,
      "outputs": []
    },
    {
      "cell_type": "code",
      "metadata": {
        "id": "zzE4jmj_Lndt"
      },
      "source": [
        "df0 = pd.ExcelFile('https://github.com/albanda/CE888/blob/master/lab4-recommender/movies_latent_factors.xlsx?raw=true')"
      ],
      "execution_count": 2,
      "outputs": []
    },
    {
      "cell_type": "code",
      "metadata": {
        "id": "fxGJ1zyDL-lP",
        "colab": {
          "base_uri": "https://localhost:8080/"
        },
        "outputId": "26904aea-36c6-449c-90e9-1be4144a2cc2"
      },
      "source": [
        "df0.sheet_names"
      ],
      "execution_count": 3,
      "outputs": [
        {
          "output_type": "execute_result",
          "data": {
            "text/plain": [
              "['Items', 'Users']"
            ]
          },
          "metadata": {
            "tags": []
          },
          "execution_count": 3
        }
      ]
    },
    {
      "cell_type": "code",
      "metadata": {
        "id": "WwlO2XW4WRoY"
      },
      "source": [
        "df_Items = pd.read_excel('https://github.com/albanda/CE888/blob/master/lab4-recommender/movies_latent_factors.xlsx?raw=true',sheet_name='Items',index_col=None)"
      ],
      "execution_count": 4,
      "outputs": []
    },
    {
      "cell_type": "code",
      "metadata": {
        "colab": {
          "base_uri": "https://localhost:8080/",
          "height": 496
        },
        "id": "lrxpjotRWnN1",
        "outputId": "e5afd5a6-1232-490f-9a7c-7f5bac4d3eea"
      },
      "source": [
        "df_Items.head()"
      ],
      "execution_count": 5,
      "outputs": [
        {
          "output_type": "execute_result",
          "data": {
            "text/html": [
              "<div>\n",
              "<style scoped>\n",
              "    .dataframe tbody tr th:only-of-type {\n",
              "        vertical-align: middle;\n",
              "    }\n",
              "\n",
              "    .dataframe tbody tr th {\n",
              "        vertical-align: top;\n",
              "    }\n",
              "\n",
              "    .dataframe thead th {\n",
              "        text-align: right;\n",
              "    }\n",
              "</style>\n",
              "<table border=\"1\" class=\"dataframe\">\n",
              "  <thead>\n",
              "    <tr style=\"text-align: right;\">\n",
              "      <th></th>\n",
              "      <th>Movie ID</th>\n",
              "      <th>Title</th>\n",
              "      <th>Factor1</th>\n",
              "      <th>Factor2</th>\n",
              "      <th>Factor3</th>\n",
              "      <th>Factor4</th>\n",
              "      <th>Factor5</th>\n",
              "      <th>Factor6</th>\n",
              "      <th>Factor7</th>\n",
              "      <th>Factor8</th>\n",
              "      <th>Factor9</th>\n",
              "      <th>Factor10</th>\n",
              "      <th>Factor11</th>\n",
              "      <th>Factor12</th>\n",
              "      <th>Factor13</th>\n",
              "      <th>Factor14</th>\n",
              "      <th>Factor15</th>\n",
              "    </tr>\n",
              "  </thead>\n",
              "  <tbody>\n",
              "    <tr>\n",
              "      <th>0</th>\n",
              "      <td>11</td>\n",
              "      <td>Star Wars: Episode IV - A New Hope (1977)</td>\n",
              "      <td>-1.521848</td>\n",
              "      <td>-1.038507</td>\n",
              "      <td>2.027269</td>\n",
              "      <td>0.247933</td>\n",
              "      <td>-0.594548</td>\n",
              "      <td>2.513260</td>\n",
              "      <td>-1.848910</td>\n",
              "      <td>0.476710</td>\n",
              "      <td>-0.224146</td>\n",
              "      <td>-0.760681</td>\n",
              "      <td>-0.973915</td>\n",
              "      <td>0.862379</td>\n",
              "      <td>0.403861</td>\n",
              "      <td>1.129616</td>\n",
              "      <td>-0.248806</td>\n",
              "    </tr>\n",
              "    <tr>\n",
              "      <th>1</th>\n",
              "      <td>12</td>\n",
              "      <td>Finding Nemo (2003)</td>\n",
              "      <td>-0.342185</td>\n",
              "      <td>-0.296586</td>\n",
              "      <td>-0.385962</td>\n",
              "      <td>2.443297</td>\n",
              "      <td>-1.097015</td>\n",
              "      <td>-0.619465</td>\n",
              "      <td>0.572887</td>\n",
              "      <td>0.329516</td>\n",
              "      <td>-0.712228</td>\n",
              "      <td>0.323554</td>\n",
              "      <td>-0.561948</td>\n",
              "      <td>-0.142405</td>\n",
              "      <td>-0.564415</td>\n",
              "      <td>0.506876</td>\n",
              "      <td>1.274993</td>\n",
              "    </tr>\n",
              "    <tr>\n",
              "      <th>2</th>\n",
              "      <td>13</td>\n",
              "      <td>Forrest Gump (1994)</td>\n",
              "      <td>-2.240888</td>\n",
              "      <td>-0.438815</td>\n",
              "      <td>-2.275177</td>\n",
              "      <td>0.614548</td>\n",
              "      <td>0.904469</td>\n",
              "      <td>0.711919</td>\n",
              "      <td>-0.420876</td>\n",
              "      <td>1.302036</td>\n",
              "      <td>-0.868418</td>\n",
              "      <td>-0.160122</td>\n",
              "      <td>0.633667</td>\n",
              "      <td>0.133138</td>\n",
              "      <td>-0.330276</td>\n",
              "      <td>-2.209004</td>\n",
              "      <td>-0.419092</td>\n",
              "    </tr>\n",
              "    <tr>\n",
              "      <th>3</th>\n",
              "      <td>14</td>\n",
              "      <td>American Beauty (1999)</td>\n",
              "      <td>-0.634531</td>\n",
              "      <td>2.186059</td>\n",
              "      <td>-0.066681</td>\n",
              "      <td>0.086197</td>\n",
              "      <td>0.517558</td>\n",
              "      <td>-0.185319</td>\n",
              "      <td>-0.412352</td>\n",
              "      <td>0.063841</td>\n",
              "      <td>0.075937</td>\n",
              "      <td>-0.577682</td>\n",
              "      <td>0.526803</td>\n",
              "      <td>-1.465557</td>\n",
              "      <td>-0.819682</td>\n",
              "      <td>0.549010</td>\n",
              "      <td>-0.681191</td>\n",
              "    </tr>\n",
              "    <tr>\n",
              "      <th>4</th>\n",
              "      <td>22</td>\n",
              "      <td>Pirates of the Caribbean: The Curse of the Bla...</td>\n",
              "      <td>0.517348</td>\n",
              "      <td>-1.456763</td>\n",
              "      <td>0.369161</td>\n",
              "      <td>0.073903</td>\n",
              "      <td>-0.098332</td>\n",
              "      <td>-0.594722</td>\n",
              "      <td>0.828888</td>\n",
              "      <td>0.033626</td>\n",
              "      <td>-0.707414</td>\n",
              "      <td>0.717877</td>\n",
              "      <td>1.394326</td>\n",
              "      <td>-0.786986</td>\n",
              "      <td>1.429191</td>\n",
              "      <td>0.855746</td>\n",
              "      <td>-2.292566</td>\n",
              "    </tr>\n",
              "  </tbody>\n",
              "</table>\n",
              "</div>"
            ],
            "text/plain": [
              "   Movie ID  ...  Factor15\n",
              "0        11  ... -0.248806\n",
              "1        12  ...  1.274993\n",
              "2        13  ... -0.419092\n",
              "3        14  ... -0.681191\n",
              "4        22  ... -2.292566\n",
              "\n",
              "[5 rows x 17 columns]"
            ]
          },
          "metadata": {
            "tags": []
          },
          "execution_count": 5
        }
      ]
    },
    {
      "cell_type": "code",
      "metadata": {
        "id": "9aU4BuhBWzYK"
      },
      "source": [
        "df_Users = pd.read_excel('https://github.com/albanda/CE888/blob/master/lab4-recommender/movies_latent_factors.xlsx?raw=true',sheet_name='Users', index_col=None)"
      ],
      "execution_count": 6,
      "outputs": []
    },
    {
      "cell_type": "code",
      "metadata": {
        "colab": {
          "base_uri": "https://localhost:8080/",
          "height": 204
        },
        "id": "S2YpCSxtXGSS",
        "outputId": "181dbc20-bbfc-4bf9-dedd-17aad5743c33"
      },
      "source": [
        "df_Users.head()"
      ],
      "execution_count": 7,
      "outputs": [
        {
          "output_type": "execute_result",
          "data": {
            "text/html": [
              "<div>\n",
              "<style scoped>\n",
              "    .dataframe tbody tr th:only-of-type {\n",
              "        vertical-align: middle;\n",
              "    }\n",
              "\n",
              "    .dataframe tbody tr th {\n",
              "        vertical-align: top;\n",
              "    }\n",
              "\n",
              "    .dataframe thead th {\n",
              "        text-align: right;\n",
              "    }\n",
              "</style>\n",
              "<table border=\"1\" class=\"dataframe\">\n",
              "  <thead>\n",
              "    <tr style=\"text-align: right;\">\n",
              "      <th></th>\n",
              "      <th>User</th>\n",
              "      <th>Factor1</th>\n",
              "      <th>Factor2</th>\n",
              "      <th>Factor3</th>\n",
              "      <th>Factor4</th>\n",
              "      <th>Factor5</th>\n",
              "      <th>Factor6</th>\n",
              "      <th>Factor7</th>\n",
              "      <th>Factor8</th>\n",
              "      <th>Factor9</th>\n",
              "      <th>Factor10</th>\n",
              "      <th>Factor11</th>\n",
              "      <th>Factor12</th>\n",
              "      <th>Factor13</th>\n",
              "      <th>Factor14</th>\n",
              "      <th>Factor15</th>\n",
              "    </tr>\n",
              "  </thead>\n",
              "  <tbody>\n",
              "    <tr>\n",
              "      <th>0</th>\n",
              "      <td>4768</td>\n",
              "      <td>-0.204024</td>\n",
              "      <td>0.161079</td>\n",
              "      <td>-0.090447</td>\n",
              "      <td>0.138495</td>\n",
              "      <td>-0.162934</td>\n",
              "      <td>0.163894</td>\n",
              "      <td>0.051502</td>\n",
              "      <td>-0.088582</td>\n",
              "      <td>0.126829</td>\n",
              "      <td>0.065967</td>\n",
              "      <td>0.085008</td>\n",
              "      <td>0.355404</td>\n",
              "      <td>0.007108</td>\n",
              "      <td>-0.118663</td>\n",
              "      <td>-0.039125</td>\n",
              "    </tr>\n",
              "    <tr>\n",
              "      <th>1</th>\n",
              "      <td>156</td>\n",
              "      <td>-0.189652</td>\n",
              "      <td>-0.178979</td>\n",
              "      <td>-0.091490</td>\n",
              "      <td>-0.000823</td>\n",
              "      <td>-0.032646</td>\n",
              "      <td>0.177209</td>\n",
              "      <td>-0.098123</td>\n",
              "      <td>-0.068283</td>\n",
              "      <td>-0.011575</td>\n",
              "      <td>0.120866</td>\n",
              "      <td>-0.009931</td>\n",
              "      <td>-0.048606</td>\n",
              "      <td>0.045916</td>\n",
              "      <td>0.113671</td>\n",
              "      <td>0.179873</td>\n",
              "    </tr>\n",
              "    <tr>\n",
              "      <th>2</th>\n",
              "      <td>5323</td>\n",
              "      <td>-0.115308</td>\n",
              "      <td>-0.090886</td>\n",
              "      <td>-0.053129</td>\n",
              "      <td>0.018472</td>\n",
              "      <td>-0.068081</td>\n",
              "      <td>-0.004828</td>\n",
              "      <td>0.113005</td>\n",
              "      <td>0.102107</td>\n",
              "      <td>0.034758</td>\n",
              "      <td>0.000693</td>\n",
              "      <td>-0.073712</td>\n",
              "      <td>-0.019460</td>\n",
              "      <td>0.108372</td>\n",
              "      <td>0.054471</td>\n",
              "      <td>-0.109552</td>\n",
              "    </tr>\n",
              "    <tr>\n",
              "      <th>3</th>\n",
              "      <td>174</td>\n",
              "      <td>-0.227462</td>\n",
              "      <td>-0.272532</td>\n",
              "      <td>-0.017231</td>\n",
              "      <td>0.054324</td>\n",
              "      <td>0.214755</td>\n",
              "      <td>-0.072639</td>\n",
              "      <td>-0.033122</td>\n",
              "      <td>-0.086508</td>\n",
              "      <td>-0.131479</td>\n",
              "      <td>0.180403</td>\n",
              "      <td>0.095890</td>\n",
              "      <td>-0.082396</td>\n",
              "      <td>0.036767</td>\n",
              "      <td>-0.165438</td>\n",
              "      <td>0.050692</td>\n",
              "    </tr>\n",
              "    <tr>\n",
              "      <th>4</th>\n",
              "      <td>4529</td>\n",
              "      <td>-0.014616</td>\n",
              "      <td>-0.102218</td>\n",
              "      <td>-0.107935</td>\n",
              "      <td>0.155784</td>\n",
              "      <td>-0.123362</td>\n",
              "      <td>-0.118228</td>\n",
              "      <td>-0.013549</td>\n",
              "      <td>-0.050622</td>\n",
              "      <td>0.058698</td>\n",
              "      <td>-0.159600</td>\n",
              "      <td>-0.142382</td>\n",
              "      <td>-0.132836</td>\n",
              "      <td>-0.039897</td>\n",
              "      <td>0.129063</td>\n",
              "      <td>0.102669</td>\n",
              "    </tr>\n",
              "  </tbody>\n",
              "</table>\n",
              "</div>"
            ],
            "text/plain": [
              "   User   Factor1   Factor2   Factor3  ...  Factor12  Factor13  Factor14  Factor15\n",
              "0  4768 -0.204024  0.161079 -0.090447  ...  0.355404  0.007108 -0.118663 -0.039125\n",
              "1   156 -0.189652 -0.178979 -0.091490  ... -0.048606  0.045916  0.113671  0.179873\n",
              "2  5323 -0.115308 -0.090886 -0.053129  ... -0.019460  0.108372  0.054471 -0.109552\n",
              "3   174 -0.227462 -0.272532 -0.017231  ... -0.082396  0.036767 -0.165438  0.050692\n",
              "4  4529 -0.014616 -0.102218 -0.107935  ... -0.132836 -0.039897  0.129063  0.102669\n",
              "\n",
              "[5 rows x 16 columns]"
            ]
          },
          "metadata": {
            "tags": []
          },
          "execution_count": 7
        }
      ]
    },
    {
      "cell_type": "code",
      "metadata": {
        "colab": {
          "base_uri": "https://localhost:8080/"
        },
        "id": "28yJ40VSC9Rt",
        "outputId": "5fd8a69e-6f65-4fc4-9daf-cb850afd0595"
      },
      "source": [
        "df_Users.shape, df_Items.shape"
      ],
      "execution_count": 8,
      "outputs": [
        {
          "output_type": "execute_result",
          "data": {
            "text/plain": [
              "((25, 16), (100, 17))"
            ]
          },
          "metadata": {
            "tags": []
          },
          "execution_count": 8
        }
      ]
    },
    {
      "cell_type": "code",
      "metadata": {
        "id": "PIbwHOiNFRyj"
      },
      "source": [
        "# Which 3 movies would you recommend to User 174?\n",
        "num_factors = df_Users.shape[1]-1\n",
        "user_pref = df_Users[df_Users['User'] == 174].iloc[:, -num_factors:].values[0]\n",
        "item_feat = df_Items.iloc[:, -num_factors:].values"
      ],
      "execution_count": 9,
      "outputs": []
    },
    {
      "cell_type": "code",
      "metadata": {
        "id": "lN5TdrYmHIDJ"
      },
      "source": [
        ""
      ],
      "execution_count": 9,
      "outputs": []
    },
    {
      "cell_type": "code",
      "metadata": {
        "id": "MaNT41s6JYl7"
      },
      "source": [
        "preference = item_feat.dot(user_pref)"
      ],
      "execution_count": 10,
      "outputs": []
    },
    {
      "cell_type": "code",
      "metadata": {
        "colab": {
          "base_uri": "https://localhost:8080/"
        },
        "id": "xvVg_Ee2GqIG",
        "outputId": "5903c69f-d1aa-4e91-be34-3f02681c9002"
      },
      "source": [
        "preference\n",
        "#df_Users.columns[1:]"
      ],
      "execution_count": 11,
      "outputs": [
        {
          "output_type": "execute_result",
          "data": {
            "text/plain": [
              "array([-1.39366402e-01,  1.29855496e-01,  1.21287610e+00, -4.11286976e-01,\n",
              "        4.84533484e-01, -8.65355323e-01, -1.62480251e-01, -2.87591800e-02,\n",
              "       -9.67865375e-02, -1.87731363e-01,  7.70433074e-01, -7.57217626e-02,\n",
              "       -5.21661932e-02, -3.53584483e-01,  1.85896256e+00,  1.89247700e+00,\n",
              "        1.89170388e+00, -3.52995189e-01, -2.38122331e-01, -1.55690678e-01,\n",
              "       -4.65392389e-01,  3.15801606e-01, -6.33464616e-02,  1.64195671e-01,\n",
              "        2.19043779e-04, -1.47500159e-01,  7.76646832e-01,  6.00331320e-02,\n",
              "       -2.37284973e-01, -6.05052326e-01, -1.05234285e-01,  8.50343004e-02,\n",
              "       -5.52006286e-01,  6.68020380e-01, -3.59605417e-01, -1.01019300e-01,\n",
              "       -7.60041985e-01, -4.12730061e-01,  5.58232991e-01,  9.95227841e-01,\n",
              "       -1.43982574e-03,  1.00185049e-01, -4.34791637e-01, -6.07886919e-01,\n",
              "        7.81979389e-02,  2.76329239e-01,  3.69319576e-01, -5.63474110e-01,\n",
              "       -2.03202702e-02, -2.58341434e-01,  1.14870392e+00,  1.04441912e+00,\n",
              "       -8.83938843e-02, -2.29628553e-01,  2.27999506e-01,  4.43699913e-02,\n",
              "       -1.73307238e-01,  1.35280050e-01,  1.05079705e-01, -4.47152256e-01,\n",
              "        4.68163401e-01,  7.00334799e-01, -3.04750869e-01, -9.77784983e-02,\n",
              "        1.58310814e-01,  5.59324257e-01,  1.03476934e-01, -2.23986286e-01,\n",
              "       -3.66725165e-01,  3.03603200e-01, -7.42210853e-02, -5.87257019e-01,\n",
              "       -6.48042557e-01, -6.96232700e-02, -2.64657505e-01, -3.82602088e-01,\n",
              "       -4.14798159e-01, -9.19506395e-02, -5.46681636e-02,  4.99982267e-01,\n",
              "       -2.26226257e-01,  2.33676764e-01,  1.75189842e-01, -1.97096972e-01,\n",
              "       -1.92600971e-01, -1.23324788e+00, -1.33743812e+00, -1.63425068e-01,\n",
              "       -3.34595314e-01,  3.52293471e-01, -1.37053328e+00,  2.71769039e-01,\n",
              "       -1.25225521e-01,  5.04616212e-02,  1.32708323e-01, -1.97996988e-01,\n",
              "       -3.07369658e-01,  1.38995382e-01,  3.09500202e-03, -5.24708828e-01])"
            ]
          },
          "metadata": {
            "tags": []
          },
          "execution_count": 11
        }
      ]
    },
    {
      "cell_type": "code",
      "metadata": {
        "colab": {
          "base_uri": "https://localhost:8080/",
          "height": 669
        },
        "id": "lhEEVsaDIbk7",
        "outputId": "fc119296-e730-45ac-fd78-1776796964c4"
      },
      "source": [
        "pd.DataFrame(preference).head(20)"
      ],
      "execution_count": 27,
      "outputs": [
        {
          "output_type": "execute_result",
          "data": {
            "text/html": [
              "<div>\n",
              "<style scoped>\n",
              "    .dataframe tbody tr th:only-of-type {\n",
              "        vertical-align: middle;\n",
              "    }\n",
              "\n",
              "    .dataframe tbody tr th {\n",
              "        vertical-align: top;\n",
              "    }\n",
              "\n",
              "    .dataframe thead th {\n",
              "        text-align: right;\n",
              "    }\n",
              "</style>\n",
              "<table border=\"1\" class=\"dataframe\">\n",
              "  <thead>\n",
              "    <tr style=\"text-align: right;\">\n",
              "      <th></th>\n",
              "      <th>0</th>\n",
              "    </tr>\n",
              "  </thead>\n",
              "  <tbody>\n",
              "    <tr>\n",
              "      <th>0</th>\n",
              "      <td>-0.139366</td>\n",
              "    </tr>\n",
              "    <tr>\n",
              "      <th>1</th>\n",
              "      <td>0.129855</td>\n",
              "    </tr>\n",
              "    <tr>\n",
              "      <th>2</th>\n",
              "      <td>1.212876</td>\n",
              "    </tr>\n",
              "    <tr>\n",
              "      <th>3</th>\n",
              "      <td>-0.411287</td>\n",
              "    </tr>\n",
              "    <tr>\n",
              "      <th>4</th>\n",
              "      <td>0.484533</td>\n",
              "    </tr>\n",
              "    <tr>\n",
              "      <th>5</th>\n",
              "      <td>-0.865355</td>\n",
              "    </tr>\n",
              "    <tr>\n",
              "      <th>6</th>\n",
              "      <td>-0.162480</td>\n",
              "    </tr>\n",
              "    <tr>\n",
              "      <th>7</th>\n",
              "      <td>-0.028759</td>\n",
              "    </tr>\n",
              "    <tr>\n",
              "      <th>8</th>\n",
              "      <td>-0.096787</td>\n",
              "    </tr>\n",
              "    <tr>\n",
              "      <th>9</th>\n",
              "      <td>-0.187731</td>\n",
              "    </tr>\n",
              "    <tr>\n",
              "      <th>10</th>\n",
              "      <td>0.770433</td>\n",
              "    </tr>\n",
              "    <tr>\n",
              "      <th>11</th>\n",
              "      <td>-0.075722</td>\n",
              "    </tr>\n",
              "    <tr>\n",
              "      <th>12</th>\n",
              "      <td>-0.052166</td>\n",
              "    </tr>\n",
              "    <tr>\n",
              "      <th>13</th>\n",
              "      <td>-0.353584</td>\n",
              "    </tr>\n",
              "    <tr>\n",
              "      <th>14</th>\n",
              "      <td>1.858963</td>\n",
              "    </tr>\n",
              "    <tr>\n",
              "      <th>15</th>\n",
              "      <td>1.892477</td>\n",
              "    </tr>\n",
              "    <tr>\n",
              "      <th>16</th>\n",
              "      <td>1.891704</td>\n",
              "    </tr>\n",
              "    <tr>\n",
              "      <th>17</th>\n",
              "      <td>-0.352995</td>\n",
              "    </tr>\n",
              "    <tr>\n",
              "      <th>18</th>\n",
              "      <td>-0.238122</td>\n",
              "    </tr>\n",
              "    <tr>\n",
              "      <th>19</th>\n",
              "      <td>-0.155691</td>\n",
              "    </tr>\n",
              "  </tbody>\n",
              "</table>\n",
              "</div>"
            ],
            "text/plain": [
              "           0\n",
              "0  -0.139366\n",
              "1   0.129855\n",
              "2   1.212876\n",
              "3  -0.411287\n",
              "4   0.484533\n",
              "5  -0.865355\n",
              "6  -0.162480\n",
              "7  -0.028759\n",
              "8  -0.096787\n",
              "9  -0.187731\n",
              "10  0.770433\n",
              "11 -0.075722\n",
              "12 -0.052166\n",
              "13 -0.353584\n",
              "14  1.858963\n",
              "15  1.892477\n",
              "16  1.891704\n",
              "17 -0.352995\n",
              "18 -0.238122\n",
              "19 -0.155691"
            ]
          },
          "metadata": {
            "tags": []
          },
          "execution_count": 27
        }
      ]
    },
    {
      "cell_type": "code",
      "metadata": {
        "colab": {
          "base_uri": "https://localhost:8080/"
        },
        "id": "Q4us9jEkc1xa",
        "outputId": "db6ed5a4-1db1-4204-d8eb-af77c7cbd53c"
      },
      "source": [
        "#values = [zip(df_Users.columns[1:], preference[i]) for i in range(preference.shape[0])]\n",
        "top_values = pd.DataFrame(preference).nlargest(10, 0)\n",
        "top_indices = top_values.index\n",
        "list(top_indices)\n",
        "#comparison_data.columns = df_Users.columns"
      ],
      "execution_count": 30,
      "outputs": [
        {
          "output_type": "execute_result",
          "data": {
            "text/plain": [
              "[15, 16, 14, 2, 50, 51, 39, 26, 10, 61]"
            ]
          },
          "metadata": {
            "tags": []
          },
          "execution_count": 30
        }
      ]
    },
    {
      "cell_type": "code",
      "metadata": {
        "id": "EDbfkF2jX5dr",
        "colab": {
          "base_uri": "https://localhost:8080/",
          "height": 804
        },
        "outputId": "e464071b-9464-417e-fdf7-778f73b6403d"
      },
      "source": [
        "df_Items.iloc[list(top_indices)]"
      ],
      "execution_count": 33,
      "outputs": [
        {
          "output_type": "execute_result",
          "data": {
            "text/html": [
              "<div>\n",
              "<style scoped>\n",
              "    .dataframe tbody tr th:only-of-type {\n",
              "        vertical-align: middle;\n",
              "    }\n",
              "\n",
              "    .dataframe tbody tr th {\n",
              "        vertical-align: top;\n",
              "    }\n",
              "\n",
              "    .dataframe thead th {\n",
              "        text-align: right;\n",
              "    }\n",
              "</style>\n",
              "<table border=\"1\" class=\"dataframe\">\n",
              "  <thead>\n",
              "    <tr style=\"text-align: right;\">\n",
              "      <th></th>\n",
              "      <th>Movie ID</th>\n",
              "      <th>Title</th>\n",
              "      <th>Factor1</th>\n",
              "      <th>Factor2</th>\n",
              "      <th>Factor3</th>\n",
              "      <th>Factor4</th>\n",
              "      <th>Factor5</th>\n",
              "      <th>Factor6</th>\n",
              "      <th>Factor7</th>\n",
              "      <th>Factor8</th>\n",
              "      <th>Factor9</th>\n",
              "      <th>Factor10</th>\n",
              "      <th>Factor11</th>\n",
              "      <th>Factor12</th>\n",
              "      <th>Factor13</th>\n",
              "      <th>Factor14</th>\n",
              "      <th>Factor15</th>\n",
              "    </tr>\n",
              "  </thead>\n",
              "  <tbody>\n",
              "    <tr>\n",
              "      <th>15</th>\n",
              "      <td>121</td>\n",
              "      <td>The Lord of the Rings: The Two Towers (2002)</td>\n",
              "      <td>-2.016728</td>\n",
              "      <td>-2.512933</td>\n",
              "      <td>2.296764</td>\n",
              "      <td>0.352801</td>\n",
              "      <td>2.750878</td>\n",
              "      <td>-0.374777</td>\n",
              "      <td>1.084939</td>\n",
              "      <td>-0.709093</td>\n",
              "      <td>1.183528</td>\n",
              "      <td>1.348406</td>\n",
              "      <td>-0.324642</td>\n",
              "      <td>-0.623675</td>\n",
              "      <td>-0.595091</td>\n",
              "      <td>-0.330821</td>\n",
              "      <td>-0.292928</td>\n",
              "    </tr>\n",
              "    <tr>\n",
              "      <th>16</th>\n",
              "      <td>122</td>\n",
              "      <td>The Lord of the Rings: The Return of the King ...</td>\n",
              "      <td>-2.271110</td>\n",
              "      <td>-2.526300</td>\n",
              "      <td>2.142566</td>\n",
              "      <td>0.341954</td>\n",
              "      <td>2.688624</td>\n",
              "      <td>-0.360610</td>\n",
              "      <td>1.140343</td>\n",
              "      <td>-0.932931</td>\n",
              "      <td>1.356982</td>\n",
              "      <td>1.331742</td>\n",
              "      <td>-0.454221</td>\n",
              "      <td>-0.620533</td>\n",
              "      <td>-0.638745</td>\n",
              "      <td>-0.172093</td>\n",
              "      <td>-0.314937</td>\n",
              "    </tr>\n",
              "    <tr>\n",
              "      <th>14</th>\n",
              "      <td>120</td>\n",
              "      <td>The Lord of the Rings: The Fellowship of the R...</td>\n",
              "      <td>-2.247395</td>\n",
              "      <td>-2.510061</td>\n",
              "      <td>2.310822</td>\n",
              "      <td>0.376040</td>\n",
              "      <td>2.677432</td>\n",
              "      <td>-0.354463</td>\n",
              "      <td>1.133873</td>\n",
              "      <td>-0.751725</td>\n",
              "      <td>1.444931</td>\n",
              "      <td>1.348524</td>\n",
              "      <td>-0.223710</td>\n",
              "      <td>-0.495453</td>\n",
              "      <td>-0.859071</td>\n",
              "      <td>-0.167967</td>\n",
              "      <td>-0.276280</td>\n",
              "    </tr>\n",
              "    <tr>\n",
              "      <th>2</th>\n",
              "      <td>13</td>\n",
              "      <td>Forrest Gump (1994)</td>\n",
              "      <td>-2.240888</td>\n",
              "      <td>-0.438815</td>\n",
              "      <td>-2.275177</td>\n",
              "      <td>0.614548</td>\n",
              "      <td>0.904469</td>\n",
              "      <td>0.711919</td>\n",
              "      <td>-0.420876</td>\n",
              "      <td>1.302036</td>\n",
              "      <td>-0.868418</td>\n",
              "      <td>-0.160122</td>\n",
              "      <td>0.633667</td>\n",
              "      <td>0.133138</td>\n",
              "      <td>-0.330276</td>\n",
              "      <td>-2.209004</td>\n",
              "      <td>-0.419092</td>\n",
              "    </tr>\n",
              "    <tr>\n",
              "      <th>50</th>\n",
              "      <td>603</td>\n",
              "      <td>The Matrix (1999)</td>\n",
              "      <td>-3.063639</td>\n",
              "      <td>-1.319283</td>\n",
              "      <td>-0.043618</td>\n",
              "      <td>-0.994612</td>\n",
              "      <td>-0.954054</td>\n",
              "      <td>0.190838</td>\n",
              "      <td>0.197918</td>\n",
              "      <td>-0.093962</td>\n",
              "      <td>-1.082840</td>\n",
              "      <td>-0.003843</td>\n",
              "      <td>1.377453</td>\n",
              "      <td>-1.668189</td>\n",
              "      <td>-1.348377</td>\n",
              "      <td>0.223797</td>\n",
              "      <td>0.752413</td>\n",
              "    </tr>\n",
              "    <tr>\n",
              "      <th>51</th>\n",
              "      <td>604</td>\n",
              "      <td>The Matrix Reloaded (2003)</td>\n",
              "      <td>0.503414</td>\n",
              "      <td>-2.004450</td>\n",
              "      <td>0.001084</td>\n",
              "      <td>-2.255945</td>\n",
              "      <td>0.882547</td>\n",
              "      <td>-0.188600</td>\n",
              "      <td>-0.235434</td>\n",
              "      <td>0.570028</td>\n",
              "      <td>-3.492897</td>\n",
              "      <td>-0.312214</td>\n",
              "      <td>0.902742</td>\n",
              "      <td>-2.063318</td>\n",
              "      <td>-1.895101</td>\n",
              "      <td>0.748458</td>\n",
              "      <td>2.120907</td>\n",
              "    </tr>\n",
              "    <tr>\n",
              "      <th>39</th>\n",
              "      <td>453</td>\n",
              "      <td>A Beautiful Mind (2001)</td>\n",
              "      <td>-1.718302</td>\n",
              "      <td>-0.626027</td>\n",
              "      <td>-2.113008</td>\n",
              "      <td>-0.234649</td>\n",
              "      <td>1.074860</td>\n",
              "      <td>-0.368105</td>\n",
              "      <td>-0.310730</td>\n",
              "      <td>0.156776</td>\n",
              "      <td>-0.951447</td>\n",
              "      <td>-0.213479</td>\n",
              "      <td>0.366553</td>\n",
              "      <td>0.050671</td>\n",
              "      <td>-0.080249</td>\n",
              "      <td>-0.224858</td>\n",
              "      <td>0.078898</td>\n",
              "    </tr>\n",
              "    <tr>\n",
              "      <th>26</th>\n",
              "      <td>197</td>\n",
              "      <td>Braveheart (1995)</td>\n",
              "      <td>-0.688090</td>\n",
              "      <td>-1.078510</td>\n",
              "      <td>-1.331395</td>\n",
              "      <td>-0.477329</td>\n",
              "      <td>0.739570</td>\n",
              "      <td>0.638210</td>\n",
              "      <td>0.067719</td>\n",
              "      <td>0.390809</td>\n",
              "      <td>-0.049158</td>\n",
              "      <td>0.586053</td>\n",
              "      <td>-1.085236</td>\n",
              "      <td>0.496482</td>\n",
              "      <td>1.123545</td>\n",
              "      <td>-1.532101</td>\n",
              "      <td>-0.181853</td>\n",
              "    </tr>\n",
              "    <tr>\n",
              "      <th>10</th>\n",
              "      <td>98</td>\n",
              "      <td>Gladiator (2000)</td>\n",
              "      <td>-1.364852</td>\n",
              "      <td>-1.304136</td>\n",
              "      <td>-1.941623</td>\n",
              "      <td>-0.661007</td>\n",
              "      <td>0.128877</td>\n",
              "      <td>0.007048</td>\n",
              "      <td>0.371097</td>\n",
              "      <td>0.086026</td>\n",
              "      <td>-0.133839</td>\n",
              "      <td>0.548053</td>\n",
              "      <td>-0.827216</td>\n",
              "      <td>0.141476</td>\n",
              "      <td>0.735983</td>\n",
              "      <td>-0.338100</td>\n",
              "      <td>-0.175565</td>\n",
              "    </tr>\n",
              "    <tr>\n",
              "      <th>61</th>\n",
              "      <td>752</td>\n",
              "      <td>V for Vendetta (2006)</td>\n",
              "      <td>-0.642504</td>\n",
              "      <td>0.432674</td>\n",
              "      <td>0.322241</td>\n",
              "      <td>-0.335012</td>\n",
              "      <td>0.230943</td>\n",
              "      <td>-0.618309</td>\n",
              "      <td>0.335841</td>\n",
              "      <td>-0.954064</td>\n",
              "      <td>-0.932023</td>\n",
              "      <td>0.735602</td>\n",
              "      <td>-0.129665</td>\n",
              "      <td>-1.126355</td>\n",
              "      <td>2.014107</td>\n",
              "      <td>-0.279514</td>\n",
              "      <td>1.460253</td>\n",
              "    </tr>\n",
              "  </tbody>\n",
              "</table>\n",
              "</div>"
            ],
            "text/plain": [
              "    Movie ID  ...  Factor15\n",
              "15       121  ... -0.292928\n",
              "16       122  ... -0.314937\n",
              "14       120  ... -0.276280\n",
              "2         13  ... -0.419092\n",
              "50       603  ...  0.752413\n",
              "51       604  ...  2.120907\n",
              "39       453  ...  0.078898\n",
              "26       197  ... -0.181853\n",
              "10        98  ... -0.175565\n",
              "61       752  ...  1.460253\n",
              "\n",
              "[10 rows x 17 columns]"
            ]
          },
          "metadata": {
            "tags": []
          },
          "execution_count": 33
        }
      ]
    },
    {
      "cell_type": "code",
      "metadata": {
        "id": "X42F9uU6Bs2O"
      },
      "source": [
        ""
      ],
      "execution_count": null,
      "outputs": []
    }
  ]
}